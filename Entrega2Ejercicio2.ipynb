{
 "cells": [
  {
   "cell_type": "markdown",
   "metadata": {},
   "source": [
    "# Prueba de evaluación 2, Parte 2"
   ]
  },
  {
   "cell_type": "markdown",
   "metadata": {},
   "source": [
    "En esta segunda parte trabajaremos con información en XML. Concretamente, el gobierno británico nos ofrece datasets sobre eventos de tráfico:\n",
    "\n",
    "https://data.gov.uk/dataset/live-traffic-information-from-the-highways-agency-road-network\n",
    "\n",
    "Trabajaremos con los “Unplanned Events” que se proporcionan en un formato XML. Se puede descargar de esta URL:\n",
    "\n",
    "http://hatrafficinfo.dft.gov.uk/feeds/datex/England/UnplannedEvent/content.xml"
   ]
  },
  {
   "cell_type": "markdown",
   "metadata": {},
   "source": [
    "Concretamente, contiene un conjunto de situaciones (“situation”) y dentro de la descripción de las situaciones, nos interesa el impacto (“impact”). \n",
    "\n",
    "Investiga el impacto de los eventos no planificados en las variables que aporten algo de información. \n",
    "\n",
    "Por ejemplo, la variable “capacityRemaining” indica la capacidad de la vía que la situación dejó sin afectar, y en ocasiones indica obstrucción total (valor 0.0) pero en otros casos sólo parcial. Estudia descriptivamente al menos 3 de las variables, sean numéricas o categóricas, dentro de las que describen el impacto solamente."
   ]
  },
  {
   "cell_type": "code",
   "execution_count": 1,
   "metadata": {
    "collapsed": false
   },
   "outputs": [
    {
     "name": "stdout",
     "output_type": "stream",
     "text": [
      " El volumen de la unidad D es DATA\n",
      " El n£mero de serie del volumen es: 7A3A-0B5D\n",
      "\n",
      " Directorio de D:\\EntornosDataSciencePython\\Entregable\\Envio2\n",
      "\n",
      "\n",
      " Directorio de D:\\EntornosDataSciencePython\\Entregable\\Envio2\n",
      "\n",
      "23/10/2016  18:10            13.773 UnplannedEvents.xml\n",
      "               1 archivos         13.773 bytes\n",
      "               0 dirs  932.197.728.256 bytes libres\n"
     ]
    }
   ],
   "source": [
    "%ls -l *.xml # veo los ficheros xml"
   ]
  },
  {
   "cell_type": "code",
   "execution_count": 6,
   "metadata": {
    "collapsed": false
   },
   "outputs": [
    {
     "name": "stdout",
     "output_type": "stream",
     "text": [
      "{http://datex2.eu/schema/1_0/1_0}d2LogicalModel\n",
      "{'modelBaseVersion': '1.0'}\n",
      "2\n"
     ]
    }
   ],
   "source": [
    "from lxml import objectify\n",
    "parsed = objectify.parse('UnplannedEvents.xml') # se parsea el fichero para poder construir data frame\n",
    "root = parsed.getroot()\n",
    "print root.tag\n",
    "print root.attrib\n",
    "print root.countchildren()"
   ]
  },
  {
   "cell_type": "code",
   "execution_count": 77,
   "metadata": {
    "collapsed": false
   },
   "outputs": [],
   "source": [
    "# Obtengo los atributos interesantes para el análisis\n",
    "\n",
    "situation=[]\n",
    "probabilityOfOccurrence=[]\n",
    "environmentalObstructionType = []\n",
    "impactOnTraffic =[]\n",
    "capacityRemaining=[]\n",
    "numberOfLanesRestricted=[]\n",
    "numberOfOperationalLanes =[]\n",
    "originalNumberOfLanes = []\n",
    "trafficRestrictionType = []\n",
    "delayTimeValue = []\n",
    "\n",
    "\n",
    "\n",
    "for row in root.payloadPublication.situation:\n",
    "    \n",
    "    situation.append(row.get('id'))\n",
    "    probabilityOfOccurrence.append(row.situationRecord.probabilityOfOccurrence.text)\n",
    "    impactOnTraffic.append(row.situationRecord.impact.impactOnTraffic.text)\n",
    "    capacityRemaining.append(float(row.situationRecord.impact.impactDetails.capacityRemaining.text))\n",
    "    numberOfLanesRestricted.append(int(row.situationRecord.impact.impactDetails.numberOfLanesRestricted.text))\n",
    "    numberOfOperationalLanes.append(int(row.situationRecord.impact.impactDetails.numberOfOperationalLanes.text))\n",
    "    originalNumberOfLanes.append(int(row.situationRecord.impact.impactDetails.originalNumberOfLanes.text))\n",
    "    trafficRestrictionType.append( row.situationRecord.impact.impactDetails.trafficRestrictionType.text)\n",
    "    delayTimeValue.append(float(row.situationRecord.impact.delays.delayTimeValue.text))"
   ]
  },
  {
   "cell_type": "code",
   "execution_count": 78,
   "metadata": {
    "collapsed": false
   },
   "outputs": [
    {
     "data": {
      "text/html": [
       "<div>\n",
       "<table border=\"1\" class=\"dataframe\">\n",
       "  <thead>\n",
       "    <tr style=\"text-align: right;\">\n",
       "      <th></th>\n",
       "      <th>situation</th>\n",
       "      <th>probabilityOfOccurrence</th>\n",
       "      <th>impactOnTraffic</th>\n",
       "      <th>capacityRemaining</th>\n",
       "      <th>numberOfLanesRestricted</th>\n",
       "      <th>numberOfOperationalLanes</th>\n",
       "      <th>originalNumberOfLanes</th>\n",
       "      <th>trafficRestrictionType</th>\n",
       "      <th>delayTimeValue</th>\n",
       "    </tr>\n",
       "  </thead>\n",
       "  <tbody>\n",
       "    <tr>\n",
       "      <th>0</th>\n",
       "      <td>GUID732336731</td>\n",
       "      <td>certain</td>\n",
       "      <td>heavy</td>\n",
       "      <td>75.0</td>\n",
       "      <td>1</td>\n",
       "      <td>3</td>\n",
       "      <td>4</td>\n",
       "      <td>carriagewayPartiallyObstructed</td>\n",
       "      <td>600.0</td>\n",
       "    </tr>\n",
       "    <tr>\n",
       "      <th>1</th>\n",
       "      <td>GUID732889125</td>\n",
       "      <td>certain</td>\n",
       "      <td>impossible</td>\n",
       "      <td>0.0</td>\n",
       "      <td>2</td>\n",
       "      <td>0</td>\n",
       "      <td>2</td>\n",
       "      <td>carriagewayBlocked</td>\n",
       "      <td>900.0</td>\n",
       "    </tr>\n",
       "    <tr>\n",
       "      <th>2</th>\n",
       "      <td>GUID732957845</td>\n",
       "      <td>certain</td>\n",
       "      <td>impossible</td>\n",
       "      <td>0.0</td>\n",
       "      <td>1</td>\n",
       "      <td>0</td>\n",
       "      <td>1</td>\n",
       "      <td>carriagewayBlocked</td>\n",
       "      <td>600.0</td>\n",
       "    </tr>\n",
       "    <tr>\n",
       "      <th>3</th>\n",
       "      <td>GUID733038589</td>\n",
       "      <td>certain</td>\n",
       "      <td>impossible</td>\n",
       "      <td>0.0</td>\n",
       "      <td>1</td>\n",
       "      <td>0</td>\n",
       "      <td>1</td>\n",
       "      <td>carriagewayBlocked</td>\n",
       "      <td>0.0</td>\n",
       "    </tr>\n",
       "    <tr>\n",
       "      <th>4</th>\n",
       "      <td>GUID733038591</td>\n",
       "      <td>certain</td>\n",
       "      <td>impossible</td>\n",
       "      <td>0.0</td>\n",
       "      <td>1</td>\n",
       "      <td>0</td>\n",
       "      <td>1</td>\n",
       "      <td>carriagewayBlocked</td>\n",
       "      <td>0.0</td>\n",
       "    </tr>\n",
       "    <tr>\n",
       "      <th>5</th>\n",
       "      <td>GUID733043648</td>\n",
       "      <td>certain</td>\n",
       "      <td>freeFlow</td>\n",
       "      <td>33.0</td>\n",
       "      <td>2</td>\n",
       "      <td>1</td>\n",
       "      <td>3</td>\n",
       "      <td>carriagewayPartiallyObstructed</td>\n",
       "      <td>0.0</td>\n",
       "    </tr>\n",
       "  </tbody>\n",
       "</table>\n",
       "</div>"
      ],
      "text/plain": [
       "       situation probabilityOfOccurrence impactOnTraffic  capacityRemaining  \\\n",
       "0  GUID732336731                 certain           heavy               75.0   \n",
       "1  GUID732889125                 certain      impossible                0.0   \n",
       "2  GUID732957845                 certain      impossible                0.0   \n",
       "3  GUID733038589                 certain      impossible                0.0   \n",
       "4  GUID733038591                 certain      impossible                0.0   \n",
       "5  GUID733043648                 certain        freeFlow               33.0   \n",
       "\n",
       "   numberOfLanesRestricted  numberOfOperationalLanes  originalNumberOfLanes  \\\n",
       "0                        1                         3                      4   \n",
       "1                        2                         0                      2   \n",
       "2                        1                         0                      1   \n",
       "3                        1                         0                      1   \n",
       "4                        1                         0                      1   \n",
       "5                        2                         1                      3   \n",
       "\n",
       "           trafficRestrictionType  delayTimeValue  \n",
       "0  carriagewayPartiallyObstructed           600.0  \n",
       "1              carriagewayBlocked           900.0  \n",
       "2              carriagewayBlocked           600.0  \n",
       "3              carriagewayBlocked             0.0  \n",
       "4              carriagewayBlocked             0.0  \n",
       "5  carriagewayPartiallyObstructed             0.0  "
      ]
     },
     "execution_count": 78,
     "metadata": {},
     "output_type": "execute_result"
    }
   ],
   "source": [
    "# construyo el data frame\n",
    "\n",
    "import pandas as pd\n",
    "\n",
    "data = pd.DataFrame()\n",
    "data['situation'] = situation\n",
    "data['probabilityOfOccurrence'] = probabilityOfOccurrence\n",
    "data['impactOnTraffic'] = impactOnTraffic\n",
    "data['capacityRemaining'] = capacityRemaining\n",
    "data['numberOfLanesRestricted'] = numberOfLanesRestricted\n",
    "data['numberOfOperationalLanes'] = numberOfOperationalLanes\n",
    "data['originalNumberOfLanes'] = originalNumberOfLanes\n",
    "data['trafficRestrictionType'] = trafficRestrictionType\n",
    "data['delayTimeValue'] = delayTimeValue\n",
    "\n",
    "\n",
    "data"
   ]
  },
  {
   "cell_type": "markdown",
   "metadata": {},
   "source": [
    "Voy a analizar el número medio de carriles operativos y cerrados agrupando por impacto en el tráfico."
   ]
  },
  {
   "cell_type": "code",
   "execution_count": 79,
   "metadata": {
    "collapsed": false
   },
   "outputs": [
    {
     "data": {
      "text/html": [
       "<div>\n",
       "<table border=\"1\" class=\"dataframe\">\n",
       "  <thead>\n",
       "    <tr style=\"text-align: right;\">\n",
       "      <th></th>\n",
       "      <th>numberOfOperationalLanes</th>\n",
       "      <th>originalNumberOfLanes</th>\n",
       "      <th>numberOfLanesRestricted</th>\n",
       "    </tr>\n",
       "    <tr>\n",
       "      <th>impactOnTraffic</th>\n",
       "      <th></th>\n",
       "      <th></th>\n",
       "      <th></th>\n",
       "    </tr>\n",
       "  </thead>\n",
       "  <tbody>\n",
       "    <tr>\n",
       "      <th>freeFlow</th>\n",
       "      <td>1</td>\n",
       "      <td>3.00</td>\n",
       "      <td>2.00</td>\n",
       "    </tr>\n",
       "    <tr>\n",
       "      <th>heavy</th>\n",
       "      <td>3</td>\n",
       "      <td>4.00</td>\n",
       "      <td>1.00</td>\n",
       "    </tr>\n",
       "    <tr>\n",
       "      <th>impossible</th>\n",
       "      <td>0</td>\n",
       "      <td>1.25</td>\n",
       "      <td>1.25</td>\n",
       "    </tr>\n",
       "  </tbody>\n",
       "</table>\n",
       "</div>"
      ],
      "text/plain": [
       "                 numberOfOperationalLanes  originalNumberOfLanes  \\\n",
       "impactOnTraffic                                                    \n",
       "freeFlow                                1                   3.00   \n",
       "heavy                                   3                   4.00   \n",
       "impossible                              0                   1.25   \n",
       "\n",
       "                 numberOfLanesRestricted  \n",
       "impactOnTraffic                           \n",
       "freeFlow                            2.00  \n",
       "heavy                               1.00  \n",
       "impossible                          1.25  "
      ]
     },
     "execution_count": 79,
     "metadata": {},
     "output_type": "execute_result"
    }
   ],
   "source": [
    "impactOnTraffic = data.groupby('impactOnTraffic').agg({'originalNumberOfLanes': lambda x: x.mean(), \n",
    "                                          'numberOfOperationalLanes': lambda x: x.mean(),\n",
    "                                          'numberOfLanesRestricted': lambda x: x.mean()})\n",
    "\n",
    "impactOnTraffic"
   ]
  },
  {
   "cell_type": "markdown",
   "metadata": {},
   "source": [
    "Observo que en el caso de free floow en la muestra había en media un carril disponible (aunque solo tenemos una observación, por lo que puede no ser representativa).\n",
    "En caso de gran impacto en trafico (heavy) habia 3 carriles disponibles (siendo 4 originalmente).\n",
    "En caso del mayor impacto (impossible)el trafico se ha cerrado totalmente (0 carriles disponibles)."
   ]
  },
  {
   "cell_type": "code",
   "execution_count": 80,
   "metadata": {
    "collapsed": false
   },
   "outputs": [
    {
     "data": {
      "text/html": [
       "<div>\n",
       "<table border=\"1\" class=\"dataframe\">\n",
       "  <thead>\n",
       "    <tr style=\"text-align: right;\">\n",
       "      <th></th>\n",
       "      <th>capacityRemaining</th>\n",
       "    </tr>\n",
       "    <tr>\n",
       "      <th>impactOnTraffic</th>\n",
       "      <th></th>\n",
       "    </tr>\n",
       "  </thead>\n",
       "  <tbody>\n",
       "    <tr>\n",
       "      <th>freeFlow</th>\n",
       "      <td>33.0</td>\n",
       "    </tr>\n",
       "    <tr>\n",
       "      <th>heavy</th>\n",
       "      <td>75.0</td>\n",
       "    </tr>\n",
       "    <tr>\n",
       "      <th>impossible</th>\n",
       "      <td>0.0</td>\n",
       "    </tr>\n",
       "  </tbody>\n",
       "</table>\n",
       "</div>"
      ],
      "text/plain": [
       "                 capacityRemaining\n",
       "impactOnTraffic                   \n",
       "freeFlow                      33.0\n",
       "heavy                         75.0\n",
       "impossible                     0.0"
      ]
     },
     "execution_count": 80,
     "metadata": {},
     "output_type": "execute_result"
    }
   ],
   "source": [
    "# Analizando la capacidad residual:\n",
    "capacity = data.groupby('impactOnTraffic').agg({'capacityRemaining': lambda x: x.mean()})\n",
    "\n",
    "capacity"
   ]
  },
  {
   "cell_type": "markdown",
   "metadata": {},
   "source": [
    "Observamos que cuanto mayor impacto en el trafico, más disminuye la capacidad residual."
   ]
  },
  {
   "cell_type": "code",
   "execution_count": 81,
   "metadata": {
    "collapsed": false
   },
   "outputs": [
    {
     "data": {
      "text/html": [
       "<div>\n",
       "<table border=\"1\" class=\"dataframe\">\n",
       "  <thead>\n",
       "    <tr style=\"text-align: right;\">\n",
       "      <th></th>\n",
       "      <th>delayTimeValue</th>\n",
       "    </tr>\n",
       "    <tr>\n",
       "      <th>impactOnTraffic</th>\n",
       "      <th></th>\n",
       "    </tr>\n",
       "  </thead>\n",
       "  <tbody>\n",
       "    <tr>\n",
       "      <th>freeFlow</th>\n",
       "      <td>0.0</td>\n",
       "    </tr>\n",
       "    <tr>\n",
       "      <th>heavy</th>\n",
       "      <td>600.0</td>\n",
       "    </tr>\n",
       "    <tr>\n",
       "      <th>impossible</th>\n",
       "      <td>375.0</td>\n",
       "    </tr>\n",
       "  </tbody>\n",
       "</table>\n",
       "</div>"
      ],
      "text/plain": [
       "                 delayTimeValue\n",
       "impactOnTraffic                \n",
       "freeFlow                    0.0\n",
       "heavy                     600.0\n",
       "impossible                375.0"
      ]
     },
     "execution_count": 81,
     "metadata": {},
     "output_type": "execute_result"
    }
   ],
   "source": [
    "#Analizando el retraso:\n",
    "delay = data.groupby('impactOnTraffic').agg({'delayTimeValue': lambda x: x.mean()})\n",
    "\n",
    "delay"
   ]
  },
  {
   "cell_type": "markdown",
   "metadata": {},
   "source": [
    "Observamos que en caso de free floow no había ningun retraso. Sin embargo, el retraso fue mayor en media cuando el impacto se clasificaba como \"havy\" que el retraso correspondiente a las observaciones clasificadas como \"imposible\". "
   ]
  },
  {
   "cell_type": "code",
   "execution_count": 82,
   "metadata": {
    "collapsed": false
   },
   "outputs": [
    {
     "data": {
      "text/plain": [
       "<matplotlib.axes._subplots.AxesSubplot at 0x10d7d780>"
      ]
     },
     "execution_count": 82,
     "metadata": {},
     "output_type": "execute_result"
    },
    {
     "data": {
      "image/png": "[encoded data removed]",
      "text/plain": [
       "<matplotlib.figure.Figure at 0xc4cbeb8>"
      ]
     },
     "metadata": {},
     "output_type": "display_data"
    }
   ],
   "source": [
    "%matplotlib inline\n",
    "\n",
    "import matplotlib.pyplot as plt\n",
    "\n",
    "# el gráfico representa el porcentaje de los carriles restringidos clasificando por impacto en tráfico.\n",
    "\n",
    "graf = pd.crosstab(data.numberOfLanesRestricted/data.originalNumberOfLanes, data.impactOnTraffic)\n",
    "graf.plot(kind='bar', stacked=True, color=['red','pink','grey'], grid=False)"
   ]
  },
  {
   "cell_type": "markdown",
   "metadata": {},
   "source": [
    "Observamos que en el caso de immacto \"imposibble\" el 100% de los carriles han sido inabilitados.\n",
    "En caso de free flow han sido 66% y en caso de impacto \"heavy\" - un 25%."
   ]
  },
  {
   "cell_type": "code",
   "execution_count": 68,
   "metadata": {
    "collapsed": false
   },
   "outputs": [
    {
     "data": {
      "text/plain": [
       "<matplotlib.axes._subplots.AxesSubplot at 0xc4cb358>"
      ]
     },
     "execution_count": 68,
     "metadata": {},
     "output_type": "execute_result"
    },
    {
     "data": {
      "image/png": "[encoded data removed]",
      "text/plain": [
       "<matplotlib.figure.Figure at 0xc593048>"
      ]
     },
     "metadata": {},
     "output_type": "display_data"
    }
   ],
   "source": [
    "%matplotlib inline\n",
    "import matplotlib.pyplot as plt\n",
    "\n",
    "# El gráfico representa el porcentaje de los carriles disponibles clasificando por impacto en tráfico. \n",
    "#Las conclusiones con coherentes con el gráfico anterior\n",
    "\n",
    "graf = pd.crosstab(data.capacityRemaining, data.impactOnTraffic)\n",
    "graf.plot(kind='bar', stacked=True, color=['red','pink','grey'], grid=False)"
   ]
  },
  {
   "cell_type": "code",
   "execution_count": 69,
   "metadata": {
    "collapsed": false
   },
   "outputs": [
    {
     "data": {
      "text/html": [
       "<div>\n",
       "<table border=\"1\" class=\"dataframe\">\n",
       "  <thead>\n",
       "    <tr style=\"text-align: right;\">\n",
       "      <th></th>\n",
       "      <th>capacityRemaining</th>\n",
       "      <th>numberOfLanesRestricted</th>\n",
       "      <th>numberOfOperationalLanes</th>\n",
       "      <th>originalNumberOfLanes</th>\n",
       "      <th>delayTimeValue</th>\n",
       "    </tr>\n",
       "  </thead>\n",
       "  <tbody>\n",
       "    <tr>\n",
       "      <th>capacityRemaining</th>\n",
       "      <td>1.000000</td>\n",
       "      <td>-0.037618</td>\n",
       "      <td>0.994496</td>\n",
       "      <td>0.936800</td>\n",
       "      <td>0.116920</td>\n",
       "    </tr>\n",
       "    <tr>\n",
       "      <th>numberOfLanesRestricted</th>\n",
       "      <td>-0.037618</td>\n",
       "      <td>1.000000</td>\n",
       "      <td>-0.106600</td>\n",
       "      <td>0.306186</td>\n",
       "      <td>0.194257</td>\n",
       "    </tr>\n",
       "    <tr>\n",
       "      <th>numberOfOperationalLanes</th>\n",
       "      <td>0.994496</td>\n",
       "      <td>-0.106600</td>\n",
       "      <td>1.000000</td>\n",
       "      <td>0.913908</td>\n",
       "      <td>0.165663</td>\n",
       "    </tr>\n",
       "    <tr>\n",
       "      <th>originalNumberOfLanes</th>\n",
       "      <td>0.936800</td>\n",
       "      <td>0.306186</td>\n",
       "      <td>0.913908</td>\n",
       "      <td>1.000000</td>\n",
       "      <td>0.237915</td>\n",
       "    </tr>\n",
       "    <tr>\n",
       "      <th>delayTimeValue</th>\n",
       "      <td>0.116920</td>\n",
       "      <td>0.194257</td>\n",
       "      <td>0.165663</td>\n",
       "      <td>0.237915</td>\n",
       "      <td>1.000000</td>\n",
       "    </tr>\n",
       "  </tbody>\n",
       "</table>\n",
       "</div>"
      ],
      "text/plain": [
       "                          capacityRemaining  numberOfLanesRestricted  \\\n",
       "capacityRemaining                  1.000000                -0.037618   \n",
       "numberOfLanesRestricted           -0.037618                 1.000000   \n",
       "numberOfOperationalLanes           0.994496                -0.106600   \n",
       "originalNumberOfLanes              0.936800                 0.306186   \n",
       "delayTimeValue                     0.116920                 0.194257   \n",
       "\n",
       "                          numberOfOperationalLanes  originalNumberOfLanes  \\\n",
       "capacityRemaining                         0.994496               0.936800   \n",
       "numberOfLanesRestricted                  -0.106600               0.306186   \n",
       "numberOfOperationalLanes                  1.000000               0.913908   \n",
       "originalNumberOfLanes                     0.913908               1.000000   \n",
       "delayTimeValue                            0.165663               0.237915   \n",
       "\n",
       "                          delayTimeValue  \n",
       "capacityRemaining               0.116920  \n",
       "numberOfLanesRestricted         0.194257  \n",
       "numberOfOperationalLanes        0.165663  \n",
       "originalNumberOfLanes           0.237915  \n",
       "delayTimeValue                  1.000000  "
      ]
     },
     "execution_count": 69,
     "metadata": {},
     "output_type": "execute_result"
    }
   ],
   "source": [
    "# Analizo las correlaciones entre las variables\n",
    "data.corr(method='pearson')"
   ]
  },
  {
   "cell_type": "markdown",
   "metadata": {},
   "source": [
    "Observamos correlación negativa entre la capacidad residual (capacity remaining) y el número de carriles restringidos.\n",
    "La capacidad residual está positivamente correlacionada con el número de carriles que había originalmente: cuantos más carriles en el momento inicial, más capacidad residual.\n",
    "El retraso no parece tener mucha correlación con el número de carriles disponibles."
   ]
  },
  {
   "cell_type": "markdown",
   "metadata": {},
   "source": [
    "Voy a ver relacion entre el retraso y los carriles disponibles."
   ]
  },
  {
   "cell_type": "code",
   "execution_count": 83,
   "metadata": {
    "collapsed": false
   },
   "outputs": [
    {
     "data": {
      "text/plain": [
       "<seaborn.axisgrid.PairGrid at 0xf066be0>"
      ]
     },
     "execution_count": 83,
     "metadata": {},
     "output_type": "execute_result"
    },
    {
     "data": {
      "image/png": "[encoded data removed]",
      "text/plain": [
       "<matplotlib.figure.Figure at 0x10c79908>"
      ]
     },
     "metadata": {},
     "output_type": "display_data"
    }
   ],
   "source": [
    "sns.pairplot(data=data,\n",
    "             x_vars=['capacityRemaining', 'originalNumberOfLanes', 'numberOfLanesRestricted'],     \n",
    "             y_vars=['delayTimeValue'] )"
   ]
  },
  {
   "cell_type": "markdown",
   "metadata": {},
   "source": [
    "No se observa una relación"
   ]
  },
  {
   "cell_type": "code",
   "execution_count": null,
   "metadata": {
    "collapsed": true
   },
   "outputs": [],
   "source": []
  }
 ],
 "metadata": {
  "kernelspec": {
   "display_name": "Python 2",
   "language": "python",
   "name": "python2"
  },
  "language_info": {
   "codemirror_mode": {
    "name": "ipython",
    "version": 2
   },
   "file_extension": ".py",
   "mimetype": "text/x-python",
   "name": "python",
   "nbconvert_exporter": "python",
   "pygments_lexer": "ipython2",
   "version": "2.7.11"
  }
 },
 "nbformat": 4,
 "nbformat_minor": 0
}
