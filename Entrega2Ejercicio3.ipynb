{
 "cells": [
  {
   "cell_type": "markdown",
   "metadata": {},
   "source": [
    "# Parte 3\n",
    "\n",
    "El sitio Web NOOA del gobierno de EEUU proporciona datasets de datos climáticos a través de esta página Web: http://www.ncdc.noaa.gov/cdo-web/datasets\n",
    "\n",
    "Entre ellos tenemos los datasets “Quality Controlled Local Climatological Data (QCLCD)” que se describen aquí: http://www.ncdc.noaa.gov/data-access/land-based-station-data/land-based-\n",
    "datasets/quality-controlled-local-climatological-data-qclcd\n",
    "\n",
    "Entre los datos que se encuentran en los datasets QCLCD están las precipitaciones por años y estaciones. Por ejemplo, podemos descargar los datasets de aquí: http://www.ncdc.noaa.gov/orders/qclcd/\n",
    "\n",
    "Y encontraremos ficheros con datos de precipitaciones como este:\n",
    "\n",
    "Wban Number, YearMonthDay, Time, Hourly Precip\n",
    "\n",
    "03013,19960701,0053,0\n",
    "\n",
    "03013,19960701,0153,0\n",
    "\n",
    "03013,19960701,0253,0\n",
    "\n",
    "03013,19960701,0353,0\n",
    "\n",
    "03013,19960701,0453,0\n",
    "\n",
    "...\n",
    "\n",
    "Se pide tomar datos de varios años (queda a la elección del estudiante) de este conjunto de datasets para las precipitaciones y obtener los siguientes resúmenes:\n",
    "\n",
    "- Día en que ha habido más precipitaciones.\n",
    "\n",
    "- Año en que ha habido más precipitaciones (obteniendo la media de cada año)\n",
    "\n",
    "Se pide realizar el análisis en dos versiones:\n",
    "\n",
    "- Una utilizando DataFrames y los ficheros de texto que se decargan directamente.\n",
    "\n",
    "- Una segunda con un paso previo en el que se guardan los datos en un fichero HDF5 \n",
    "\n",
    "(que debe contener los metadatos descriptivos necesarios). Queda a la decisión del estudiante cómo organizar los datos en el fichero. \n",
    "\n",
    "Y se pide comparar:\n",
    "\n",
    "- El tamaño en disco que ocupan los datos en cada una de las versiones.\n",
    "\n",
    "- El tiempo comparado de ejecución de los resúmenes anteriores.\n",
    "\n",
    "Opcional: finalmente, se platea el almacenar en el fichero HDF5 los resúmenes mismos obtenidos y comparar el tiempo de recuperación de esos datos del fichero con el tiempo tardado en calcularlo."
   ]
  },
  {
   "cell_type": "markdown",
   "metadata": {},
   "source": [
    "# Usando los ficheros de texto descargados directamente."
   ]
  },
  {
   "cell_type": "code",
   "execution_count": 5,
   "metadata": {
    "collapsed": true
   },
   "outputs": [],
   "source": [
    "import numpy as np\n",
    "import pandas as pd\n",
    "from urllib import urlretrieve, urlcleanup\n",
    "import zipfile\n",
    "import os.path\n",
    "import os, sys\n",
    "from time import time "
   ]
  },
  {
   "cell_type": "code",
   "execution_count": 6,
   "metadata": {
    "collapsed": false
   },
   "outputs": [
    {
     "name": "stdout",
     "output_type": "stream",
     "text": [
      "Se van a descargar siguientes fechas:\n",
      "['201501', '201502', '201503', '201504', '201505', '201506', '201507', '201508', '201509', '201510', '201511', '201512', '201601', '201602', '201603', '201604', '201605', '201606', '201607', '201608', '201609', '201610']\n"
     ]
    }
   ],
   "source": [
    "# Eligo las fechas construyo un array \n",
    "fechas = [\n",
    " \n",
    "    '201501','201502','201503','201504','201505','201506','201507','201508','201509','201510','201511','201512',\n",
    "    '201601','201602','201603','201604','201605','201606','201607','201608','201609','201610']\n",
    "\n",
    "print 'Se van a descargar siguientes fechas:'\n",
    "print fechas"
   ]
  },
  {
   "cell_type": "code",
   "execution_count": 7,
   "metadata": {
    "collapsed": false
   },
   "outputs": [
    {
     "name": "stdout",
     "output_type": "stream",
     "text": [
      "Carga QCLCD201501.zip\n",
      "Carga 201501precip.txt\n",
      "Carga QCLCD201502.zip\n",
      "Carga 201502precip.txt\n",
      "Carga QCLCD201503.zip\n",
      "Carga 201503precip.txt\n",
      "Carga QCLCD201504.zip\n",
      "Carga 201504precip.txt\n",
      "Carga QCLCD201505.zip\n",
      "Carga 201505precip.txt\n",
      "Carga QCLCD201506.zip\n",
      "Carga 201506precip.txt\n",
      "Carga QCLCD201507.zip\n",
      "Carga 201507precip.txt\n",
      "Carga QCLCD201508.zip\n",
      "Carga 201508precip.txt\n",
      "Carga QCLCD201509.zip\n",
      "Carga 201509precip.txt\n",
      "Carga QCLCD201510.zip\n",
      "Carga 201510precip.txt\n",
      "Carga QCLCD201511.zip\n",
      "Carga 201511precip.txt\n",
      "Carga QCLCD201512.zip\n",
      "Carga 201512precip.txt\n",
      "Carga QCLCD201601.zip\n",
      "Carga 201601precip.txt\n",
      "Carga QCLCD201602.zip\n",
      "Carga 201602precip.txt\n",
      "Carga QCLCD201603.zip\n",
      "Carga 201603precip.txt\n",
      "Carga QCLCD201604.zip\n",
      "Carga 201604precip.txt\n",
      "Carga QCLCD201605.zip\n",
      "Carga 201605precip.txt\n",
      "Carga QCLCD201606.zip\n",
      "Carga 201606precip.txt\n",
      "Carga QCLCD201607.zip\n",
      "Carga 201607precip.txt\n",
      "Carga QCLCD201608.zip\n",
      "Carga 201608precip.txt\n",
      "Carga QCLCD201609.zip\n",
      "Carga 201609precip.txt\n",
      "Carga QCLCD201610.zip\n",
      "Carga 201610precip.txt\n"
     ]
    }
   ],
   "source": [
    "# Cargo los datos a un data frame\n",
    "\n",
    "\n",
    "lista = []\n",
    "\n",
    "\n",
    "contador = 0\n",
    "for fecha in fechas:\n",
    "    contador = contador + 1\n",
    "    \n",
    "    # Carga zip\n",
    "    ficherozip = 'QCLCD' + fecha + '.zip'\n",
    "    \n",
    "    print 'Carga', ficherozip\n",
    "    fzip = zipfile.ZipFile(ficherozip, 'r')\n",
    "\n",
    "    # Carga txt\n",
    "    ficherotxt = fecha + 'precip.txt'\n",
    "    ftxt = fzip.read(ficherotxt)\n",
    "    fzip.close()\n",
    "    \n",
    "    print 'Carga', ficherotxt\n",
    "\n",
    "    outfile = open(ficherotxt, 'w')\n",
    "    outfile.write(ftxt)\n",
    "    outfile.close()    \n",
    "\n",
    "    dfaux = pd.read_csv(ficherotxt, index_col=None, header=0)\n",
    "    lista.append(dfaux)\n",
    "\n",
    "df = pd.concat(lista) "
   ]
  },
  {
   "cell_type": "code",
   "execution_count": 8,
   "metadata": {
    "collapsed": false
   },
   "outputs": [
    {
     "name": "stdout",
     "output_type": "stream",
     "text": [
      "(37247184, 5)\n"
     ]
    },
    {
     "data": {
      "text/html": [
       "<div>\n",
       "<table border=\"1\" class=\"dataframe\">\n",
       "  <thead>\n",
       "    <tr style=\"text-align: right;\">\n",
       "      <th></th>\n",
       "      <th>Wban</th>\n",
       "      <th>YearMonthDay</th>\n",
       "      <th>Hour</th>\n",
       "      <th>Precipitation</th>\n",
       "      <th>PrecipitationFlag</th>\n",
       "    </tr>\n",
       "  </thead>\n",
       "  <tbody>\n",
       "    <tr>\n",
       "      <th>0</th>\n",
       "      <td>102</td>\n",
       "      <td>20150101</td>\n",
       "      <td>1</td>\n",
       "      <td></td>\n",
       "      <td></td>\n",
       "    </tr>\n",
       "    <tr>\n",
       "      <th>1</th>\n",
       "      <td>102</td>\n",
       "      <td>20150101</td>\n",
       "      <td>2</td>\n",
       "      <td></td>\n",
       "      <td></td>\n",
       "    </tr>\n",
       "    <tr>\n",
       "      <th>2</th>\n",
       "      <td>102</td>\n",
       "      <td>20150101</td>\n",
       "      <td>3</td>\n",
       "      <td></td>\n",
       "      <td></td>\n",
       "    </tr>\n",
       "    <tr>\n",
       "      <th>3</th>\n",
       "      <td>102</td>\n",
       "      <td>20150101</td>\n",
       "      <td>4</td>\n",
       "      <td></td>\n",
       "      <td></td>\n",
       "    </tr>\n",
       "    <tr>\n",
       "      <th>4</th>\n",
       "      <td>102</td>\n",
       "      <td>20150101</td>\n",
       "      <td>5</td>\n",
       "      <td></td>\n",
       "      <td></td>\n",
       "    </tr>\n",
       "    <tr>\n",
       "      <th>5</th>\n",
       "      <td>102</td>\n",
       "      <td>20150101</td>\n",
       "      <td>6</td>\n",
       "      <td></td>\n",
       "      <td></td>\n",
       "    </tr>\n",
       "    <tr>\n",
       "      <th>6</th>\n",
       "      <td>102</td>\n",
       "      <td>20150101</td>\n",
       "      <td>7</td>\n",
       "      <td></td>\n",
       "      <td></td>\n",
       "    </tr>\n",
       "    <tr>\n",
       "      <th>7</th>\n",
       "      <td>102</td>\n",
       "      <td>20150101</td>\n",
       "      <td>8</td>\n",
       "      <td></td>\n",
       "      <td></td>\n",
       "    </tr>\n",
       "    <tr>\n",
       "      <th>8</th>\n",
       "      <td>102</td>\n",
       "      <td>20150101</td>\n",
       "      <td>9</td>\n",
       "      <td></td>\n",
       "      <td></td>\n",
       "    </tr>\n",
       "    <tr>\n",
       "      <th>9</th>\n",
       "      <td>102</td>\n",
       "      <td>20150101</td>\n",
       "      <td>10</td>\n",
       "      <td></td>\n",
       "      <td></td>\n",
       "    </tr>\n",
       "  </tbody>\n",
       "</table>\n",
       "</div>"
      ],
      "text/plain": [
       "   Wban  YearMonthDay  Hour Precipitation PrecipitationFlag\n",
       "0   102      20150101     1                                \n",
       "1   102      20150101     2                                \n",
       "2   102      20150101     3                                \n",
       "3   102      20150101     4                                \n",
       "4   102      20150101     5                                \n",
       "5   102      20150101     6                                \n",
       "6   102      20150101     7                                \n",
       "7   102      20150101     8                                \n",
       "8   102      20150101     9                                \n",
       "9   102      20150101    10                                "
      ]
     },
     "execution_count": 8,
     "metadata": {},
     "output_type": "execute_result"
    }
   ],
   "source": [
    "print df.shape\n",
    "df.head(10)"
   ]
  },
  {
   "cell_type": "code",
   "execution_count": 9,
   "metadata": {
    "collapsed": false
   },
   "outputs": [
    {
     "name": "stdout",
     "output_type": "stream",
     "text": [
      "(37247184, 6)\n"
     ]
    },
    {
     "data": {
      "text/html": [
       "<div>\n",
       "<table border=\"1\" class=\"dataframe\">\n",
       "  <thead>\n",
       "    <tr style=\"text-align: right;\">\n",
       "      <th></th>\n",
       "      <th>Wban</th>\n",
       "      <th>YearMonthDay</th>\n",
       "      <th>Hour</th>\n",
       "      <th>Precipitation</th>\n",
       "      <th>PrecipitationFlag</th>\n",
       "      <th>Year</th>\n",
       "    </tr>\n",
       "  </thead>\n",
       "  <tbody>\n",
       "    <tr>\n",
       "      <th>0</th>\n",
       "      <td>102</td>\n",
       "      <td>20150101</td>\n",
       "      <td>1</td>\n",
       "      <td></td>\n",
       "      <td></td>\n",
       "      <td>2015</td>\n",
       "    </tr>\n",
       "    <tr>\n",
       "      <th>1</th>\n",
       "      <td>102</td>\n",
       "      <td>20150101</td>\n",
       "      <td>2</td>\n",
       "      <td></td>\n",
       "      <td></td>\n",
       "      <td>2015</td>\n",
       "    </tr>\n",
       "    <tr>\n",
       "      <th>2</th>\n",
       "      <td>102</td>\n",
       "      <td>20150101</td>\n",
       "      <td>3</td>\n",
       "      <td></td>\n",
       "      <td></td>\n",
       "      <td>2015</td>\n",
       "    </tr>\n",
       "    <tr>\n",
       "      <th>3</th>\n",
       "      <td>102</td>\n",
       "      <td>20150101</td>\n",
       "      <td>4</td>\n",
       "      <td></td>\n",
       "      <td></td>\n",
       "      <td>2015</td>\n",
       "    </tr>\n",
       "    <tr>\n",
       "      <th>4</th>\n",
       "      <td>102</td>\n",
       "      <td>20150101</td>\n",
       "      <td>5</td>\n",
       "      <td></td>\n",
       "      <td></td>\n",
       "      <td>2015</td>\n",
       "    </tr>\n",
       "    <tr>\n",
       "      <th>5</th>\n",
       "      <td>102</td>\n",
       "      <td>20150101</td>\n",
       "      <td>6</td>\n",
       "      <td></td>\n",
       "      <td></td>\n",
       "      <td>2015</td>\n",
       "    </tr>\n",
       "    <tr>\n",
       "      <th>6</th>\n",
       "      <td>102</td>\n",
       "      <td>20150101</td>\n",
       "      <td>7</td>\n",
       "      <td></td>\n",
       "      <td></td>\n",
       "      <td>2015</td>\n",
       "    </tr>\n",
       "    <tr>\n",
       "      <th>7</th>\n",
       "      <td>102</td>\n",
       "      <td>20150101</td>\n",
       "      <td>8</td>\n",
       "      <td></td>\n",
       "      <td></td>\n",
       "      <td>2015</td>\n",
       "    </tr>\n",
       "    <tr>\n",
       "      <th>8</th>\n",
       "      <td>102</td>\n",
       "      <td>20150101</td>\n",
       "      <td>9</td>\n",
       "      <td></td>\n",
       "      <td></td>\n",
       "      <td>2015</td>\n",
       "    </tr>\n",
       "    <tr>\n",
       "      <th>9</th>\n",
       "      <td>102</td>\n",
       "      <td>20150101</td>\n",
       "      <td>10</td>\n",
       "      <td></td>\n",
       "      <td></td>\n",
       "      <td>2015</td>\n",
       "    </tr>\n",
       "  </tbody>\n",
       "</table>\n",
       "</div>"
      ],
      "text/plain": [
       "   Wban  YearMonthDay  Hour Precipitation PrecipitationFlag  Year\n",
       "0   102      20150101     1                                  2015\n",
       "1   102      20150101     2                                  2015\n",
       "2   102      20150101     3                                  2015\n",
       "3   102      20150101     4                                  2015\n",
       "4   102      20150101     5                                  2015\n",
       "5   102      20150101     6                                  2015\n",
       "6   102      20150101     7                                  2015\n",
       "7   102      20150101     8                                  2015\n",
       "8   102      20150101     9                                  2015\n",
       "9   102      20150101    10                                  2015"
      ]
     },
     "execution_count": 9,
     "metadata": {},
     "output_type": "execute_result"
    }
   ],
   "source": [
    "# Añado columna año\n",
    "df['Year'] = df.YearMonthDay.apply(lambda x: str(x)[0:4])\n",
    "df.head(10)"
   ]
  },
  {
   "cell_type": "code",
   "execution_count": 10,
   "metadata": {
    "collapsed": false
   },
   "outputs": [
    {
     "data": {
      "text/html": [
       "<div>\n",
       "<table border=\"1\" class=\"dataframe\">\n",
       "  <thead>\n",
       "    <tr style=\"text-align: right;\">\n",
       "      <th></th>\n",
       "      <th>Wban</th>\n",
       "      <th>YearMonthDay</th>\n",
       "      <th>Hour</th>\n",
       "      <th>Precipitation</th>\n",
       "      <th>PrecipitationFlag</th>\n",
       "      <th>Year</th>\n",
       "    </tr>\n",
       "  </thead>\n",
       "  <tbody>\n",
       "    <tr>\n",
       "      <th>0</th>\n",
       "      <td>102</td>\n",
       "      <td>20150101</td>\n",
       "      <td>1</td>\n",
       "      <td>NaN</td>\n",
       "      <td></td>\n",
       "      <td>2015</td>\n",
       "    </tr>\n",
       "    <tr>\n",
       "      <th>1</th>\n",
       "      <td>102</td>\n",
       "      <td>20150101</td>\n",
       "      <td>2</td>\n",
       "      <td>NaN</td>\n",
       "      <td></td>\n",
       "      <td>2015</td>\n",
       "    </tr>\n",
       "    <tr>\n",
       "      <th>2</th>\n",
       "      <td>102</td>\n",
       "      <td>20150101</td>\n",
       "      <td>3</td>\n",
       "      <td>NaN</td>\n",
       "      <td></td>\n",
       "      <td>2015</td>\n",
       "    </tr>\n",
       "    <tr>\n",
       "      <th>3</th>\n",
       "      <td>102</td>\n",
       "      <td>20150101</td>\n",
       "      <td>4</td>\n",
       "      <td>NaN</td>\n",
       "      <td></td>\n",
       "      <td>2015</td>\n",
       "    </tr>\n",
       "    <tr>\n",
       "      <th>4</th>\n",
       "      <td>102</td>\n",
       "      <td>20150101</td>\n",
       "      <td>5</td>\n",
       "      <td>NaN</td>\n",
       "      <td></td>\n",
       "      <td>2015</td>\n",
       "    </tr>\n",
       "  </tbody>\n",
       "</table>\n",
       "</div>"
      ],
      "text/plain": [
       "   Wban  YearMonthDay  Hour  Precipitation PrecipitationFlag  Year\n",
       "0   102      20150101     1            NaN                    2015\n",
       "1   102      20150101     2            NaN                    2015\n",
       "2   102      20150101     3            NaN                    2015\n",
       "3   102      20150101     4            NaN                    2015\n",
       "4   102      20150101     5            NaN                    2015"
      ]
     },
     "execution_count": 10,
     "metadata": {},
     "output_type": "execute_result"
    }
   ],
   "source": [
    "# Convierto los valores de la columna precipitation a números\n",
    "df['Precipitation'] = pd.to_numeric(df['Precipitation'], errors = 'NaN')\n",
    "df.head()"
   ]
  },
  {
   "cell_type": "code",
   "execution_count": 11,
   "metadata": {
    "collapsed": false
   },
   "outputs": [
    {
     "name": "stdout",
     "output_type": "stream",
     "text": [
      "(1603154, 6)\n"
     ]
    },
    {
     "data": {
      "text/html": [
       "<div>\n",
       "<table border=\"1\" class=\"dataframe\">\n",
       "  <thead>\n",
       "    <tr style=\"text-align: right;\">\n",
       "      <th></th>\n",
       "      <th>Wban</th>\n",
       "      <th>YearMonthDay</th>\n",
       "      <th>Hour</th>\n",
       "      <th>Precipitation</th>\n",
       "      <th>PrecipitationFlag</th>\n",
       "      <th>Year</th>\n",
       "    </tr>\n",
       "  </thead>\n",
       "  <tbody>\n",
       "    <tr>\n",
       "      <th>932</th>\n",
       "      <td>103</td>\n",
       "      <td>20150108</td>\n",
       "      <td>21</td>\n",
       "      <td>0.01</td>\n",
       "      <td></td>\n",
       "      <td>2015</td>\n",
       "    </tr>\n",
       "    <tr>\n",
       "      <th>934</th>\n",
       "      <td>103</td>\n",
       "      <td>20150108</td>\n",
       "      <td>23</td>\n",
       "      <td>0.01</td>\n",
       "      <td></td>\n",
       "      <td>2015</td>\n",
       "    </tr>\n",
       "    <tr>\n",
       "      <th>2403</th>\n",
       "      <td>106</td>\n",
       "      <td>20150108</td>\n",
       "      <td>4</td>\n",
       "      <td>0.02</td>\n",
       "      <td></td>\n",
       "      <td>2015</td>\n",
       "    </tr>\n",
       "    <tr>\n",
       "      <th>2404</th>\n",
       "      <td>106</td>\n",
       "      <td>20150108</td>\n",
       "      <td>5</td>\n",
       "      <td>0.01</td>\n",
       "      <td></td>\n",
       "      <td>2015</td>\n",
       "    </tr>\n",
       "    <tr>\n",
       "      <th>2405</th>\n",
       "      <td>106</td>\n",
       "      <td>20150108</td>\n",
       "      <td>6</td>\n",
       "      <td>0.01</td>\n",
       "      <td></td>\n",
       "      <td>2015</td>\n",
       "    </tr>\n",
       "  </tbody>\n",
       "</table>\n",
       "</div>"
      ],
      "text/plain": [
       "      Wban  YearMonthDay  Hour  Precipitation PrecipitationFlag  Year\n",
       "932    103      20150108    21           0.01                    2015\n",
       "934    103      20150108    23           0.01                    2015\n",
       "2403   106      20150108     4           0.02                    2015\n",
       "2404   106      20150108     5           0.01                    2015\n",
       "2405   106      20150108     6           0.01                    2015"
      ]
     },
     "execution_count": 11,
     "metadata": {},
     "output_type": "execute_result"
    }
   ],
   "source": [
    "# Descarto los valores nulos\n",
    "df = df[np.isfinite(df['Precipitation'])]\n",
    "print df.shape # veo que me quedo con menos datos\n",
    "df.head()"
   ]
  },
  {
   "cell_type": "markdown",
   "metadata": {},
   "source": [
    "### Filtro el día de mayores lluvias."
   ]
  },
  {
   "cell_type": "code",
   "execution_count": 12,
   "metadata": {
    "collapsed": false
   },
   "outputs": [
    {
     "name": "stdout",
     "output_type": "stream",
     "text": [
      "Wall time: 16 ms\n"
     ]
    },
    {
     "data": {
      "text/html": [
       "<div>\n",
       "<table border=\"1\" class=\"dataframe\">\n",
       "  <thead>\n",
       "    <tr style=\"text-align: right;\">\n",
       "      <th></th>\n",
       "      <th>Wban</th>\n",
       "      <th>YearMonthDay</th>\n",
       "      <th>Hour</th>\n",
       "      <th>Precipitation</th>\n",
       "      <th>PrecipitationFlag</th>\n",
       "      <th>Year</th>\n",
       "    </tr>\n",
       "  </thead>\n",
       "  <tbody>\n",
       "    <tr>\n",
       "      <th>198259</th>\n",
       "      <td>386</td>\n",
       "      <td>20151215</td>\n",
       "      <td>20</td>\n",
       "      <td>4780000.0</td>\n",
       "      <td>S</td>\n",
       "      <td>2015</td>\n",
       "    </tr>\n",
       "  </tbody>\n",
       "</table>\n",
       "</div>"
      ],
      "text/plain": [
       "        Wban  YearMonthDay  Hour  Precipitation PrecipitationFlag  Year\n",
       "198259   386      20151215    20      4780000.0                 S  2015"
      ]
     },
     "execution_count": 12,
     "metadata": {},
     "output_type": "execute_result"
    }
   ],
   "source": [
    "%time  df[df[\"Precipitation\"]==df[\"Precipitation\"].max()]"
   ]
  },
  {
   "cell_type": "markdown",
   "metadata": {},
   "source": [
    "Veo el tiempo de ejecucuíon en milisegundos."
   ]
  },
  {
   "cell_type": "markdown",
   "metadata": {},
   "source": [
    "### La media de lluvias por año."
   ]
  },
  {
   "cell_type": "code",
   "execution_count": 13,
   "metadata": {
    "collapsed": false
   },
   "outputs": [
    {
     "name": "stdout",
     "output_type": "stream",
     "text": [
      "Media de lluvias por año:\n"
     ]
    },
    {
     "data": {
      "text/plain": [
       "Year\n",
       "2015    10.200522\n",
       "2016     0.078410\n",
       "Name: Precipitation, dtype: float64"
      ]
     },
     "execution_count": 13,
     "metadata": {},
     "output_type": "execute_result"
    }
   ],
   "source": [
    "print 'Media de lluvias por año:'\n",
    "df[\"Precipitation\"].groupby(df[\"Year\"]).mean()"
   ]
  },
  {
   "cell_type": "code",
   "execution_count": 14,
   "metadata": {
    "collapsed": false
   },
   "outputs": [
    {
     "name": "stdout",
     "output_type": "stream",
     "text": [
      "Ha llovido más en el año 2015\n",
      "Wall time: 116 ms\n"
     ]
    }
   ],
   "source": [
    "%time print 'Ha llovido más en el año',df[\"Precipitation\"].groupby(df[\"Year\"]).mean().argmax()"
   ]
  },
  {
   "cell_type": "markdown",
   "metadata": {
    "collapsed": false
   },
   "source": [
    "# Usando HDFS5"
   ]
  },
  {
   "cell_type": "code",
   "execution_count": 15,
   "metadata": {
    "collapsed": true
   },
   "outputs": [],
   "source": [
    "import os\n",
    "import tables as tb\n",
    "import numpy as np\n",
    "import pandas as pd\n",
    "\n",
    "from pandas import HDFStore, DataFrame"
   ]
  },
  {
   "cell_type": "code",
   "execution_count": 16,
   "metadata": {
    "collapsed": false
   },
   "outputs": [
    {
     "name": "stdout",
     "output_type": "stream",
     "text": [
      "(1603154, 6)\n"
     ]
    },
    {
     "data": {
      "text/html": [
       "<div>\n",
       "<table border=\"1\" class=\"dataframe\">\n",
       "  <thead>\n",
       "    <tr style=\"text-align: right;\">\n",
       "      <th></th>\n",
       "      <th>Wban</th>\n",
       "      <th>YearMonthDay</th>\n",
       "      <th>Hour</th>\n",
       "      <th>Precipitation</th>\n",
       "      <th>PrecipitationFlag</th>\n",
       "      <th>Year</th>\n",
       "    </tr>\n",
       "  </thead>\n",
       "  <tbody>\n",
       "    <tr>\n",
       "      <th>932</th>\n",
       "      <td>103</td>\n",
       "      <td>20150108</td>\n",
       "      <td>21</td>\n",
       "      <td>0.01</td>\n",
       "      <td></td>\n",
       "      <td>2015</td>\n",
       "    </tr>\n",
       "    <tr>\n",
       "      <th>934</th>\n",
       "      <td>103</td>\n",
       "      <td>20150108</td>\n",
       "      <td>23</td>\n",
       "      <td>0.01</td>\n",
       "      <td></td>\n",
       "      <td>2015</td>\n",
       "    </tr>\n",
       "    <tr>\n",
       "      <th>2403</th>\n",
       "      <td>106</td>\n",
       "      <td>20150108</td>\n",
       "      <td>4</td>\n",
       "      <td>0.02</td>\n",
       "      <td></td>\n",
       "      <td>2015</td>\n",
       "    </tr>\n",
       "    <tr>\n",
       "      <th>2404</th>\n",
       "      <td>106</td>\n",
       "      <td>20150108</td>\n",
       "      <td>5</td>\n",
       "      <td>0.01</td>\n",
       "      <td></td>\n",
       "      <td>2015</td>\n",
       "    </tr>\n",
       "    <tr>\n",
       "      <th>2405</th>\n",
       "      <td>106</td>\n",
       "      <td>20150108</td>\n",
       "      <td>6</td>\n",
       "      <td>0.01</td>\n",
       "      <td></td>\n",
       "      <td>2015</td>\n",
       "    </tr>\n",
       "  </tbody>\n",
       "</table>\n",
       "</div>"
      ],
      "text/plain": [
       "      Wban  YearMonthDay  Hour  Precipitation PrecipitationFlag  Year\n",
       "932    103      20150108    21           0.01                    2015\n",
       "934    103      20150108    23           0.01                    2015\n",
       "2403   106      20150108     4           0.02                    2015\n",
       "2404   106      20150108     5           0.01                    2015\n",
       "2405   106      20150108     6           0.01                    2015"
      ]
     },
     "execution_count": 16,
     "metadata": {},
     "output_type": "execute_result"
    }
   ],
   "source": [
    "\n",
    "hdf5tbl = \"tabla/hdf5_precipitaciones\" # data frame\n",
    "hdf5filename = \"hdf5_precipitaciones.h5\" # fichero hdfs5\n",
    "\n",
    "\n",
    "try:\n",
    "    os.remove(hdf5filename)\n",
    "except OSError:\n",
    "    pass\n",
    "\n",
    "hdf = HDFStore(hdf5filename)\n",
    "\n",
    "# Guardo el dataframe en hdf5\n",
    "hdf.put(hdf5tbl, df, format='table', data_columns=True)\n",
    "\n",
    "\n",
    "print hdf[hdf5tbl].shape # compruebo que \n",
    "hdf[hdf5tbl].head()"
   ]
  },
  {
   "cell_type": "code",
   "execution_count": 21,
   "metadata": {
    "collapsed": true
   },
   "outputs": [],
   "source": [
    "df1=hdf[hdf5tbl] # defino una variable para mayor comodidad"
   ]
  },
  {
   "cell_type": "markdown",
   "metadata": {},
   "source": [
    "### Calculo el año con más lluvias:"
   ]
  },
  {
   "cell_type": "code",
   "execution_count": 23,
   "metadata": {
    "collapsed": false
   },
   "outputs": [
    {
     "name": "stdout",
     "output_type": "stream",
     "text": [
      "Wall time: 25 ms\n"
     ]
    },
    {
     "data": {
      "text/html": [
       "<div>\n",
       "<table border=\"1\" class=\"dataframe\">\n",
       "  <thead>\n",
       "    <tr style=\"text-align: right;\">\n",
       "      <th></th>\n",
       "      <th>Wban</th>\n",
       "      <th>YearMonthDay</th>\n",
       "      <th>Hour</th>\n",
       "      <th>Precipitation</th>\n",
       "      <th>PrecipitationFlag</th>\n",
       "      <th>Year</th>\n",
       "    </tr>\n",
       "  </thead>\n",
       "  <tbody>\n",
       "    <tr>\n",
       "      <th>198259</th>\n",
       "      <td>386</td>\n",
       "      <td>20151215</td>\n",
       "      <td>20</td>\n",
       "      <td>4780000.0</td>\n",
       "      <td>S</td>\n",
       "      <td>2015</td>\n",
       "    </tr>\n",
       "  </tbody>\n",
       "</table>\n",
       "</div>"
      ],
      "text/plain": [
       "        Wban  YearMonthDay  Hour  Precipitation PrecipitationFlag  Year\n",
       "198259   386      20151215    20      4780000.0                 S  2015"
      ]
     },
     "execution_count": 23,
     "metadata": {},
     "output_type": "execute_result"
    }
   ],
   "source": [
    "%time  df1[df1[\"Precipitation\"]==df1[\"Precipitation\"].max()]"
   ]
  },
  {
   "cell_type": "markdown",
   "metadata": {},
   "source": [
    "### Calculo las medias por año y el año que más llovió:"
   ]
  },
  {
   "cell_type": "code",
   "execution_count": 25,
   "metadata": {
    "collapsed": false
   },
   "outputs": [
    {
     "name": "stdout",
     "output_type": "stream",
     "text": [
      "Media de lluvias por año:\n"
     ]
    },
    {
     "data": {
      "text/plain": [
       "Year\n",
       "2015    10.200522\n",
       "2016     0.078410\n",
       "Name: Precipitation, dtype: float64"
      ]
     },
     "execution_count": 25,
     "metadata": {},
     "output_type": "execute_result"
    }
   ],
   "source": [
    "print 'Media de lluvias por año:'\n",
    "df1[\"Precipitation\"].groupby(df1[\"Year\"]).mean()"
   ]
  },
  {
   "cell_type": "code",
   "execution_count": 26,
   "metadata": {
    "collapsed": false
   },
   "outputs": [
    {
     "name": "stdout",
     "output_type": "stream",
     "text": [
      "Ha llovido más en el año 2015\n",
      "Wall time: 95 ms\n"
     ]
    }
   ],
   "source": [
    "%time print 'Ha llovido más en el año',df1[\"Precipitation\"].groupby(df1[\"Year\"]).mean().argmax()"
   ]
  },
  {
   "cell_type": "markdown",
   "metadata": {},
   "source": [
    "# Comparativa de espacio usado y tiempos"
   ]
  },
  {
   "cell_type": "markdown",
   "metadata": {},
   "source": [
    "### Comparativa de espacio"
   ]
  },
  {
   "cell_type": "code",
   "execution_count": 36,
   "metadata": {
    "collapsed": false
   },
   "outputs": [
    {
     "name": "stdout",
     "output_type": "stream",
     "text": [
      "Tamaño memoria: 9618924\n",
      "Tamaño disco: 72203040\n",
      "Diferencia en el tamaño es:  62584116\n"
     ]
    }
   ],
   "source": [
    "sizedf = df.size # tamaño en memoria\n",
    "sizedf1 = hdf.root.tabla.hdf5_precipitaciones.table.size_on_disk # tamaño en el disco\n",
    "print \"Tamaño memoria:\", sizedf\n",
    "print \"Tamaño disco:\", sizedf1\n",
    "print \"Diferencia en el tamaño es: \",(sizedf1 - sizedf)"
   ]
  },
  {
   "cell_type": "markdown",
   "metadata": {},
   "source": [
    "Fichero HDFS ocupa más espacio en el disco que el data frame en memoria."
   ]
  },
  {
   "cell_type": "markdown",
   "metadata": {},
   "source": [
    "### Comparativa de los tiempos"
   ]
  },
  {
   "cell_type": "markdown",
   "metadata": {},
   "source": [
    "El cálculo del día más lluvioso."
   ]
  },
  {
   "cell_type": "code",
   "execution_count": 39,
   "metadata": {
    "collapsed": false
   },
   "outputs": [
    {
     "name": "stdout",
     "output_type": "stream",
     "text": [
      "Wall time: 15 ms\n",
      "Wall time: 28 ms\n"
     ]
    },
    {
     "data": {
      "text/html": [
       "<div>\n",
       "<table border=\"1\" class=\"dataframe\">\n",
       "  <thead>\n",
       "    <tr style=\"text-align: right;\">\n",
       "      <th></th>\n",
       "      <th>Wban</th>\n",
       "      <th>YearMonthDay</th>\n",
       "      <th>Hour</th>\n",
       "      <th>Precipitation</th>\n",
       "      <th>PrecipitationFlag</th>\n",
       "      <th>Year</th>\n",
       "    </tr>\n",
       "  </thead>\n",
       "  <tbody>\n",
       "    <tr>\n",
       "      <th>198259</th>\n",
       "      <td>386</td>\n",
       "      <td>20151215</td>\n",
       "      <td>20</td>\n",
       "      <td>4780000.0</td>\n",
       "      <td>S</td>\n",
       "      <td>2015</td>\n",
       "    </tr>\n",
       "  </tbody>\n",
       "</table>\n",
       "</div>"
      ],
      "text/plain": [
       "        Wban  YearMonthDay  Hour  Precipitation PrecipitationFlag  Year\n",
       "198259   386      20151215    20      4780000.0                 S  2015"
      ]
     },
     "execution_count": 39,
     "metadata": {},
     "output_type": "execute_result"
    }
   ],
   "source": [
    "%time  df[df[\"Precipitation\"]==df[\"Precipitation\"].max()], #fichero texto\n",
    "%time  df1[df1[\"Precipitation\"]==df1[\"Precipitation\"].max()] #fichero hdfs"
   ]
  },
  {
   "cell_type": "markdown",
   "metadata": {},
   "source": [
    "El cálculo del año más lluvioso."
   ]
  },
  {
   "cell_type": "code",
   "execution_count": 41,
   "metadata": {
    "collapsed": false
   },
   "outputs": [
    {
     "name": "stdout",
     "output_type": "stream",
     "text": [
      "Wall time: 125 ms\n",
      "Wall time: 94 ms\n"
     ]
    },
    {
     "data": {
      "text/plain": [
       "'2015'"
      ]
     },
     "execution_count": 41,
     "metadata": {},
     "output_type": "execute_result"
    }
   ],
   "source": [
    "%time df[\"Precipitation\"].groupby(df[\"Year\"]).mean().argmax()\n",
    "%time df1[\"Precipitation\"].groupby(df1[\"Year\"]).mean().argmax()"
   ]
  },
  {
   "cell_type": "markdown",
   "metadata": {},
   "source": [
    "El tiempo de cálculo en el primer caso es menor para el fichero de texto y en caso del segudo cálculo es menor en hdfs."
   ]
  },
  {
   "cell_type": "code",
   "execution_count": 48,
   "metadata": {
    "collapsed": false
   },
   "outputs": [
    {
     "name": "stdout",
     "output_type": "stream",
     "text": [
      "Wall time: 582 ms\n",
      "Wall time: 541 ms\n",
      "Wall time: 594 ms\n",
      "Wall time: 602 ms\n",
      "Wall time: 633 ms\n",
      "Wall time: 586 ms\n",
      "Wall time: 618 ms\n",
      "Wall time: 599 ms\n",
      "Wall time: 577 ms\n",
      "Wall time: 585 ms\n",
      "Wall time: 564 ms\n",
      "Wall time: 585 ms\n",
      "Wall time: 600 ms\n",
      "Wall time: 556 ms\n",
      "Wall time: 593 ms\n",
      "Wall time: 565 ms\n",
      "Wall time: 594 ms\n",
      "Wall time: 579 ms\n",
      "Wall time: 601 ms\n",
      "Wall time: 616 ms\n",
      "Wall time: 585 ms\n",
      "Wall time: 606 ms\n"
     ]
    }
   ],
   "source": [
    "\n",
    "lista = []\n",
    "\n",
    "\n",
    "contador = 0\n",
    "for fecha in fechas:\n",
    "    contador = contador + 1\n",
    "    \n",
    "    # Carga zip\n",
    "    ficherozip = 'QCLCD' + fecha + '.zip'\n",
    "    \n",
    "#    print 'Carga', ficherozip\n",
    "    fzip = zipfile.ZipFile(ficherozip, 'r')\n",
    "\n",
    "    # Carga txt\n",
    "    ficherotxt = fecha + 'precip.txt'\n",
    "    ftxt = fzip.read(ficherotxt)\n",
    "    fzip.close()\n",
    "    \n",
    "#    print 'Carga', ficherotxt\n",
    "\n",
    "    outfile = open(ficherotxt, 'w')\n",
    "    outfile.write(ftxt)\n",
    "    outfile.close()    \n",
    "\n",
    "    %time    dfaux = pd.read_csv(ficherotxt, index_col=None, header=0)\n",
    "    lista.append(dfaux)\n",
    "\n",
    "df = pd.concat(lista) \n",
    "\n"
   ]
  },
  {
   "cell_type": "code",
   "execution_count": 43,
   "metadata": {
    "collapsed": false
   },
   "outputs": [
    {
     "name": "stdout",
     "output_type": "stream",
     "text": [
      "Wall time: 8.49 s\n"
     ]
    }
   ],
   "source": [
    "%time hdf.put(hdf5tbl, df, format='table', data_columns=True)"
   ]
  },
  {
   "cell_type": "markdown",
   "metadata": {},
   "source": [
    "La carga a hdfs5 es más rápida que la carga desde los ficheros a un data frame."
   ]
  },
  {
   "cell_type": "code",
   "execution_count": null,
   "metadata": {
    "collapsed": true
   },
   "outputs": [],
   "source": []
  }
 ],
 "metadata": {
  "kernelspec": {
   "display_name": "Python 2",
   "language": "python",
   "name": "python2"
  },
  "language_info": {
   "codemirror_mode": {
    "name": "ipython",
    "version": 2
   },
   "file_extension": ".py",
   "mimetype": "text/x-python",
   "name": "python",
   "nbconvert_exporter": "python",
   "pygments_lexer": "ipython2",
   "version": "2.7.11"
  }
 },
 "nbformat": 4,
 "nbformat_minor": 0
}
